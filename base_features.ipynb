{
 "cells": [
  {
   "cell_type": "code",
   "execution_count": 2,
   "metadata": {},
   "outputs": [
    {
     "name": "stdout",
     "output_type": "stream",
     "text": [
      "env: CUDA_VISIBLE_DEVICES=0\n",
      "env: LIBRARY_PATH=/usr/local/cuda/lib64\n"
     ]
    }
   ],
   "source": [
    "import pandas as pd\n",
    "import numpy as np\n",
    "%env CUDA_VISIBLE_DEVICES=0\n",
    "%env LIBRARY_PATH=/usr/local/cuda/lib64\n",
    "import sys\n",
    "import os\n",
    "import tables\n",
    "from tqdm import *\n",
    "import matplotlib.pyplot as plt\n",
    "%matplotlib inline\n",
    "from mpl_toolkits.mplot3d import Axes3D\n"
   ]
  },
  {
   "cell_type": "code",
   "execution_count": 3,
   "metadata": {
    "scrolled": true
   },
   "outputs": [],
   "source": [
    "train_file = \"train_3-4.hdf5\"\n",
    "test_file = \"test_3-4.hdf5\"\n",
    "submission_file = 'submission_1-2.hdf5'\n",
    "\n",
    "CROP_SIZE=19\n",
    "\n",
    "\n",
    "event_index = 15\n",
    "#crop = f.root.data[event_index]\n",
    "#data_labels = f.root.label[event_index]\n",
    "\n",
    "\n",
    "def make_crops(images, size=19):\n",
    "    crops = np.zeros(((images > 0).sum() , 1, size, size, size))\n",
    "    half_size = size // 2\n",
    "    calc = 0\n",
    "    for image in images:\n",
    "        image = np.pad(image, ((0,0), (half_size, half_size), (half_size, half_size), (half_size, half_size)),\n",
    "                       'constant', constant_values=0)\n",
    "        \n",
    "        non_zero_pixels = np.array(np.where(image[0] > 0)).T    \n",
    "        for row in non_zero_pixels:\n",
    "            crops[calc] = image[0, row[0] - half_size : row[0] + half_size + 1,\n",
    "                                   row[1] - half_size : row[1] + half_size + 1,\n",
    "                                   row[2] - half_size : row[2] + half_size + 1]\n",
    "            calc += 1\n",
    "            \n",
    "    \n",
    "    return crops\n",
    "\n",
    "def read_events(start_index=0, end_index=100, energy_scale=255):\n",
    "    X_train, y_train = [], []\n",
    "    for event_index in trange(start_index, end_index):\n",
    "        data_hits = np.expand_dims(np.array(f.root.data[event_index : event_index + 1]), axis=1)\n",
    "        data_hits = data_hits * energy_scale / data_hits.max(axis=(1,2,3,4), keepdims=True)\n",
    "        data_labels = np.expand_dims(np.array(f.root.label[event_index : event_index + 1]), axis=1)\n",
    "        X_train.append(make_crops(data_hits, size=CROP_SIZE))\n",
    "        y_train.append(data_labels[data_hits > 0] - 1)\n",
    "#         else:\n",
    "#             X_train = np.vstack((X_train, make_crops(data_hits, size=CROP_SIZE)))\n",
    "#             y_train = np.hstack((y_train, data_labels[data_hits > 0] - 1))\n",
    "    return np.concatenate(X_train), np.concatenate(y_train)"
   ]
  },
  {
   "cell_type": "code",
   "execution_count": 4,
   "metadata": {},
   "outputs": [],
   "source": [
    "f = tables.open_file(test_file)"
   ]
  },
  {
   "cell_type": "code",
   "execution_count": 5,
   "metadata": {},
   "outputs": [
    {
     "data": {
      "text/plain": [
       "10000"
      ]
     },
     "execution_count": 5,
     "metadata": {},
     "output_type": "execute_result"
    }
   ],
   "source": [
    "len(f.root.data)"
   ]
  },
  {
   "cell_type": "code",
   "execution_count": 6,
   "metadata": {},
   "outputs": [],
   "source": [
    "def hdf5_to_numpy(box_ind, file='test_1-2.hdf5', n=100, num_classes=2, test=False, ohe=False):\n",
    "    \"\"\"\n",
    "    Converts .hdf5-data to numpy array.\n",
    "    :param file: string\n",
    "    :param n: int or np.inf\n",
    "    :param num_classes: int, either 2 or 3\n",
    "    :return:\n",
    "    X: np.array[N, 4] -- x, y, z coordinates, energy normalized to [0, 1] range\n",
    "    Y: np.array[N] -- label\n",
    "    M: np.array[N, 3] -- original positions of each entry\n",
    "    N: int -- total number of events\n",
    "    \"\"\"\n",
    "    #f = tables.open_file(file)\n",
    "    X = list()\n",
    "    Y = list()\n",
    "    M = list()\n",
    "    N = min(len(f.root.data), n)\n",
    "    boxes = np\n",
    "    #print(len(f.root.data))\n",
    "    i = box_ind\n",
    "    data = f.root.data[i]\n",
    "    mask = data > 0\n",
    "    x, y, z = np.where(mask)\n",
    "    v = data[np.where(mask)]\n",
    "\n",
    "    X.append(np.stack([x / X_MAX, \n",
    "                       y / Y_MAX,\n",
    "                       z / Z_MAX,\n",
    "                       v / E_SCALE]).T)\n",
    "    if not test:\n",
    "        label = f.root.label[i]\n",
    "        if ohe:\n",
    "            Y.append(\n",
    "                ohe_transform(label[np.where(mask)], num_classes=num_classes)\n",
    "            )\n",
    "        else:\n",
    "            Y.append(label[np.where(mask)])\n",
    "    else:\n",
    "        Y.append(np.zeros((len(np.where(mask)[0]), num_classes)))\n",
    "    M.append(np.array(np.where(mask)).T)\n",
    "    #f.close()\n",
    "    return np.hstack((X[0], M[0])), Y[0] if not test else np.hstack((X[0], M[0]))\n",
    "\n",
    "def ohe_transform(y, num_classes=2):\n",
    "    if num_classes == 2:\n",
    "        y_ohe = np.zeros((len(y), 2))\n",
    "        y_ohe[:, 0] = (y == 1.)\n",
    "        y_ohe[:, 1] = (y == 2.)\n",
    "    elif num_classes == 4:\n",
    "        y_ohe = np.zeros((len(y), 4))\n",
    "        y_ohe[:, 0] = (y == 0.)\n",
    "        y_ohe[:, 1] = (y == 1.)\n",
    "        y_ohe[:, 2] = (y == 2.)\n",
    "        y_ohe[:, 3] = (y == 3.)\n",
    "    else:\n",
    "        raise BaseException\n",
    "    return y_ohe"
   ]
  },
  {
   "cell_type": "code",
   "execution_count": 7,
   "metadata": {},
   "outputs": [
    {
     "data": {
      "text/plain": [
       "/data (EArray(10000, 192, 192, 192), shuffle, zlib(5)) ''\n",
       "  atom := Float32Atom(shape=(), dflt=0.0)\n",
       "  maindim := 0\n",
       "  flavor := 'numpy'\n",
       "  byteorder := 'little'\n",
       "  chunkshape := (1, 7, 192, 192)"
      ]
     },
     "execution_count": 7,
     "metadata": {},
     "output_type": "execute_result"
    }
   ],
   "source": [
    "f.root.data"
   ]
  },
  {
   "cell_type": "code",
   "execution_count": null,
   "metadata": {},
   "outputs": [
    {
     "name": "stderr",
     "output_type": "stream",
     "text": [
      " 96%|█████████▌| 9584/10000 [43:07<01:52,  3.70it/s]"
     ]
    }
   ],
   "source": [
    "X_MAX, Y_MAX, Z_MAX = 191., 191., 191.\n",
    "E_SCALE = 50\n",
    "\n",
    "\n",
    "full_train = []\n",
    "full_label = []\n",
    "\n",
    "for cur_ind in trange(10000):\n",
    "    X_train, y_train = hdf5_to_numpy(cur_ind)\n",
    "    full_train.append(X_train)\n",
    "    full_label.append(y_train)"
   ]
  },
  {
   "cell_type": "code",
   "execution_count": 89,
   "metadata": {},
   "outputs": [
    {
     "name": "stderr",
     "output_type": "stream",
     "text": [
      "100%|██████████| 10000/10000 [31:49<00:00,  5.24it/s]\n"
     ]
    }
   ],
   "source": [
    "X_MAX, Y_MAX, Z_MAX = 191., 191., 191.\n",
    "E_SCALE = 50\n",
    "\n",
    "full_test = []\n",
    "\n",
    "for cur_ind in trange(10000):\n",
    "    X_test_tmp = hdf5_to_numpy(cur_ind, test=True)\n",
    "    full_test.append(X_test_tmp)"
   ]
  },
  {
   "cell_type": "code",
   "execution_count": 90,
   "metadata": {},
   "outputs": [],
   "source": [
    "import pickle\n",
    "\n",
    "with open('test.pickle', 'wb') as tr:\n",
    "    pickle.dump(full_test, tr)"
   ]
  },
  {
   "cell_type": "code",
   "execution_count": 80,
   "metadata": {},
   "outputs": [],
   "source": [
    "import pickle\n",
    "\n",
    "with open('test.pickle', 'rb') as tr:\n",
    "    full_test = pickle.load(tr)"
   ]
  },
  {
   "cell_type": "code",
   "execution_count": 81,
   "metadata": {},
   "outputs": [
    {
     "name": "stdout",
     "output_type": "stream",
     "text": [
      "2027\n"
     ]
    }
   ],
   "source": [
    "full_test_ind = []\n",
    "\n",
    "for cur_ind, one_ind in enumerate(full_test):\n",
    "    xes = one_ind[0]\n",
    "    if len(xes) == 0:\n",
    "        print(cur_ind)\n",
    "    full_test_ind += [cur_ind] * len(xes)\n",
    "\n",
    "full_test_ind = np.array(full_test_ind)"
   ]
  },
  {
   "cell_type": "code",
   "execution_count": 82,
   "metadata": {},
   "outputs": [],
   "source": [
    "full_test = np.concatenate(np.array(full_test)[:, 0])"
   ]
  },
  {
   "cell_type": "code",
   "execution_count": null,
   "metadata": {},
   "outputs": [],
   "source": [
    "import pickle\n",
    "\n",
    "with open('train.pickle', 'wb') as tr:\n",
    "    pickle.dump([full_train, full_label], tr)"
   ]
  },
  {
   "cell_type": "code",
   "execution_count": 8,
   "metadata": {},
   "outputs": [],
   "source": [
    "import pickle\n",
    "\n",
    "with open('train.pickle', 'rb') as tr:\n",
    "    train = pickle.load(tr)"
   ]
  },
  {
   "cell_type": "code",
   "execution_count": 9,
   "metadata": {},
   "outputs": [],
   "source": [
    "full_train_ind = []\n",
    "\n",
    "for cur_ind, one_ind in enumerate(train[0]):\n",
    "    xes = one_ind\n",
    "    full_train_ind += [cur_ind] * len(xes)\n",
    "\n",
    "full_train_ind = np.array(full_train_ind)"
   ]
  },
  {
   "cell_type": "code",
   "execution_count": null,
   "metadata": {},
   "outputs": [],
   "source": []
  },
  {
   "cell_type": "code",
   "execution_count": 10,
   "metadata": {},
   "outputs": [],
   "source": [
    "full_train = np.concatenate(train[0])\n",
    "full_train_label = np.concatenate(train[1])\n",
    "\n",
    "#full_train = np.hstack((full_train, full_train_ind[::, np.newaxis]))"
   ]
  },
  {
   "cell_type": "code",
   "execution_count": 76,
   "metadata": {},
   "outputs": [],
   "source": [
    "X_train = full_train[full_train_ind < 8000]\n",
    "y_train = full_train_label[full_train_ind < 8000]\n",
    "\n",
    "X_val = full_train[full_train_ind > 8000]\n",
    "y_val = full_train_label[full_train_ind > 8000]"
   ]
  },
  {
   "cell_type": "code",
   "execution_count": 155,
   "metadata": {},
   "outputs": [],
   "source": [
    "X_train = X_train[::, 3:]\n",
    "X_val = X_val[::, 3:]"
   ]
  },
  {
   "cell_type": "code",
   "execution_count": 11,
   "metadata": {},
   "outputs": [],
   "source": [
    "def rlencode(x, dropna=False):\n",
    "    where = np.flatnonzero\n",
    "    x = np.asarray(x)\n",
    "    n = len(x)\n",
    "    if n == 0:\n",
    "        return (np.array([], dtype=int), \n",
    "                np.array([], dtype=int), \n",
    "                np.array([], dtype=x.dtype))\n",
    "\n",
    "    starts = np.r_[0, where(~np.isclose(x[1:], x[:-1], equal_nan=True)) + 1]\n",
    "    lengths = np.diff(np.r_[starts, n])\n",
    "    values = x[starts]\n",
    "    \n",
    "    if dropna:\n",
    "        mask = ~np.isnan(values)\n",
    "        starts, lengths, values = starts[mask], lengths[mask], values[mask]\n",
    "    \n",
    "    return starts, lengths, values"
   ]
  },
  {
   "cell_type": "code",
   "execution_count": 12,
   "metadata": {},
   "outputs": [],
   "source": [
    "box_start_pos, box_len, _ = rlencode(full_train_ind)"
   ]
  },
  {
   "cell_type": "code",
   "execution_count": 83,
   "metadata": {},
   "outputs": [],
   "source": [
    "box_start_pos_test, box_len_test, _ = rlencode(full_test_ind)"
   ]
  },
  {
   "cell_type": "code",
   "execution_count": 172,
   "metadata": {},
   "outputs": [
    {
     "data": {
      "text/plain": [
       "(27993775, 7)"
      ]
     },
     "execution_count": 172,
     "metadata": {},
     "output_type": "execute_result"
    }
   ],
   "source": [
    "full_train.shape"
   ]
  },
  {
   "cell_type": "code",
   "execution_count": 173,
   "metadata": {},
   "outputs": [
    {
     "data": {
      "text/plain": [
       "(array([       0,     2483,     5553, ..., 27981983, 27986601, 27991219]),\n",
       " array([2483, 3070, 1730, ..., 4618, 4618, 2556]))"
      ]
     },
     "execution_count": 173,
     "metadata": {},
     "output_type": "execute_result"
    }
   ],
   "source": [
    "box_len, box_start_pos"
   ]
  },
  {
   "cell_type": "code",
   "execution_count": 175,
   "metadata": {},
   "outputs": [
    {
     "data": {
      "text/plain": [
       "array([], shape=(0, 7), dtype=float64)"
      ]
     },
     "execution_count": 175,
     "metadata": {},
     "output_type": "execute_result"
    }
   ],
   "source": [
    "full_train[tmp_box_start_pos:tmp_box_start_pos + tmp_box_len]"
   ]
  },
  {
   "cell_type": "code",
   "execution_count": 176,
   "metadata": {},
   "outputs": [
    {
     "data": {
      "text/plain": [
       "2483"
      ]
     },
     "execution_count": 176,
     "metadata": {},
     "output_type": "execute_result"
    }
   ],
   "source": [
    "tmp_box_start_pos"
   ]
  },
  {
   "cell_type": "code",
   "execution_count": 253,
   "metadata": {},
   "outputs": [
    {
     "data": {
      "text/plain": [
       "((27993775, 7), (27993775,))"
      ]
     },
     "execution_count": 253,
     "metadata": {},
     "output_type": "execute_result"
    }
   ],
   "source": [
    "full_train.shape, full_train_label.shape"
   ]
  },
  {
   "cell_type": "code",
   "execution_count": 37,
   "metadata": {},
   "outputs": [],
   "source": [
    "tmp = full_train[:300][::, 3:]"
   ]
  },
  {
   "cell_type": "code",
   "execution_count": 38,
   "metadata": {},
   "outputs": [
    {
     "data": {
      "text/plain": [
       "array([ 72.,  73.,  73.,  73.,  73.,  73.,  74.,  75.,  76.,  76.,  76.,\n",
       "        76.,  76.,  77.,  81.,  81.,  82.,  82.,  82.,  82.,  82.,  83.,\n",
       "        84.,  85.,  85.,  85.,  85.,  85.,  85.,  86.,  87.,  87.,  88.,\n",
       "        88.,  88.,  88.,  88.,  88.,  88.,  88.,  88.,  88.,  89.,  89.,\n",
       "        89.,  90.,  90.,  91.,  91.,  99.,  99., 100., 100., 100., 100.,\n",
       "       100., 101., 101., 103., 103., 104., 104., 104., 104., 104., 105.,\n",
       "       106., 106., 107., 107., 107., 107., 107., 107., 108., 108., 108.,\n",
       "       108., 108., 108., 109., 109., 109., 110., 110., 110., 110., 111.,\n",
       "       111., 111., 111., 111., 111., 111., 111., 111., 111., 112., 112.,\n",
       "       112., 113., 113., 113., 114., 114., 114., 114., 114., 115., 115.,\n",
       "       116., 117., 117., 117., 117., 117., 118., 118., 119., 119., 119.,\n",
       "       119., 119., 119., 119., 119., 119., 120., 120., 120., 120., 120.,\n",
       "       120., 120., 120., 120., 120., 120., 120., 120., 120., 120., 121.,\n",
       "       121., 121., 121., 121., 121., 121., 121., 121., 121., 121., 121.,\n",
       "       121., 121., 121., 121., 121., 122., 122., 122., 122., 122., 122.,\n",
       "       122., 122., 122., 122., 122., 122., 122., 122., 122., 122., 122.,\n",
       "       122., 122., 122., 122., 122., 122., 122., 122., 123., 123., 123.,\n",
       "       123., 123., 123., 123., 123., 123., 124., 124., 125., 125., 125.,\n",
       "       125., 125., 125., 125., 126., 126., 126., 126., 126., 126., 126.,\n",
       "       126., 126., 126., 127., 127., 127., 127., 127., 127., 127., 127.,\n",
       "       127., 127., 127., 127., 127., 127., 127., 127., 127., 127., 127.,\n",
       "       127., 127., 127., 127., 127., 128., 128., 128., 128., 128., 128.,\n",
       "       128., 128., 128., 128., 128., 128., 128., 128., 128., 128., 128.,\n",
       "       128., 128., 128., 128., 128., 128., 128., 128., 128., 128., 128.,\n",
       "       128., 128., 128., 128., 128., 128., 128., 129., 129., 129., 129.,\n",
       "       129., 129., 129., 129., 129., 129., 129., 129., 129., 129., 129.,\n",
       "       129., 129., 129., 129., 129., 129., 129., 129., 129., 129., 129.,\n",
       "       129., 129., 129.])"
      ]
     },
     "execution_count": 38,
     "metadata": {},
     "output_type": "execute_result"
    }
   ],
   "source": [
    "tmp[::, 1]"
   ]
  },
  {
   "cell_type": "code",
   "execution_count": 66,
   "metadata": {},
   "outputs": [],
   "source": [
    "def get_pdf(data, bins=75):\n",
    "    probs, bins = np.histogram(data, bins=bins, density=True)\n",
    "    indexes = np.digitize(data, bins=bins, right=True)\n",
    "    return probs[indexes - 1]"
   ]
  },
  {
   "cell_type": "code",
   "execution_count": 84,
   "metadata": {
    "scrolled": true
   },
   "outputs": [
    {
     "name": "stderr",
     "output_type": "stream",
     "text": [
      "9999it [03:28, 47.98it/s]\n"
     ]
    }
   ],
   "source": [
    "from sklearn.neighbors import KDTree\n",
    "\n",
    "extended_test = []\n",
    "extended_boxes = []\n",
    "\n",
    "k = 6\n",
    "\n",
    "for cur_ind, tmp_box_start_pos, tmp_box_len in tqdm(zip(range(9999), box_start_pos_test, box_len_test)):\n",
    "    cur_data = full_test[tmp_box_start_pos:tmp_box_start_pos + tmp_box_len][::, 3:]\n",
    "    if len(cur_data) > k:\n",
    "        extended_boxes += [_[cur_ind]] * len(cur_data)\n",
    "        tree = KDTree(cur_data)\n",
    "        neigh = tree.query(cur_data, k=k)[1]\n",
    "        tmp_data = cur_data[neigh].reshape((len(cur_data), k * 4))\n",
    "        x = tmp_data[:, 1::4]\n",
    "        y = tmp_data[:, 2::4]\n",
    "        z = tmp_data[:, 3::4]\n",
    "        en = tmp_data[:, 0::4]\n",
    "        min_x = cur_data[x[::, 0].argmin()]\n",
    "        min_y = cur_data[y[::, 0].argmin()]\n",
    "        min_z = cur_data[z[::, 0].argmin()]\n",
    "        cur_data_coords = cur_data[::, 1:]\n",
    "\n",
    "        min_x_coords = min_x[1:]\n",
    "        min_y_coords = min_y[1:]\n",
    "        min_z_coords = min_z[1:]\n",
    "\n",
    "\n",
    "        min_x_energy = min_x[0]\n",
    "        min_y_energy = min_y[0]\n",
    "        min_z_energy = min_z[0]\n",
    "\n",
    "        cur_data_energy = cur_data[::, 0]\n",
    "\n",
    "        dif_x_eng = cur_data_energy - min_x_energy\n",
    "        dif_y_eng = cur_data_energy - min_y_energy\n",
    "        dif_z_eng = cur_data_energy - min_z_energy\n",
    "\n",
    "\n",
    "\n",
    "        x_dist = np.sum((cur_data_coords - min_x_coords) ** 2, axis=-1) ** 0.5\n",
    "        y_dist = np.sum((cur_data_coords - min_y_coords) ** 2, axis=-1) ** 0.5\n",
    "        z_dist = np.sum((cur_data_coords - min_z_coords) ** 2, axis=-1) ** 0.5\n",
    "        \n",
    "        x_probs = get_pdf(cur_data[::, 1])[::, np.newaxis]\n",
    "        y_probs = get_pdf(cur_data[::, 2])[::, np.newaxis]\n",
    "        z_probs = get_pdf(cur_data[::, 3])[::, np.newaxis]\n",
    "        en_probs = get_pdf(cur_data[::, 0])[::, np.newaxis]\n",
    "\n",
    "        features = (tmp_data,\n",
    "                  x.mean(axis=-1)[::, np.newaxis],\n",
    "                  y.mean(axis=-1)[::, np.newaxis],\n",
    "                  z.mean(axis=-1)[::, np.newaxis],\n",
    "                  x.ptp(axis=-1)[::, np.newaxis],\n",
    "                  y.ptp(axis=-1)[::, np.newaxis],\n",
    "                  z.ptp(axis=-1)[::, np.newaxis],\n",
    "                  x.var(axis=-1)[::, np.newaxis],\n",
    "                  y.var(axis=-1)[::, np.newaxis],\n",
    "                  z.var(axis=-1)[::, np.newaxis],\n",
    "                  en.mean(axis=-1)[::, np.newaxis],\n",
    "                  en.std(axis=-1)[::, np.newaxis],\n",
    "                  en.var(axis=-1)[::, np.newaxis],\n",
    "                  en.ptp(axis=-1)[::, np.newaxis],\n",
    "                    x_dist[::, np.newaxis],\n",
    "                    y_dist[::, np.newaxis],\n",
    "                    z_dist[::, np.newaxis],\n",
    "                    dif_x_eng[::, np.newaxis],\n",
    "                    dif_y_eng[::, np.newaxis],\n",
    "                    dif_z_eng[::, np.newaxis],\n",
    "                    x_probs,\n",
    "                    y_probs,\n",
    "                    z_probs,\n",
    "                    en_probs\n",
    "                )\n",
    "\n",
    "        tmp_data = np.hstack(features)\n",
    "        extended_test.append(tmp_data)"
   ]
  },
  {
   "cell_type": "code",
   "execution_count": 68,
   "metadata": {
    "scrolled": true
   },
   "outputs": [
    {
     "name": "stderr",
     "output_type": "stream",
     "text": [
      "9999it [03:49, 43.61it/s]\n"
     ]
    }
   ],
   "source": [
    "from sklearn.neighbors import KDTree\n",
    "\n",
    "extended_train = []\n",
    "extended_labels = []\n",
    "\n",
    "k = 6\n",
    "\n",
    "for cur_ind, tmp_box_start_pos, tmp_box_len in tqdm(zip(range(9999), box_start_pos, box_len)):\n",
    "    cur_data = full_train[tmp_box_start_pos:tmp_box_start_pos + tmp_box_len][::, 3:]\n",
    "    if len(cur_data) > k:\n",
    "        extended_labels.append(full_train_label[tmp_box_start_pos:tmp_box_start_pos + tmp_box_len])\n",
    "        tree = KDTree(cur_data)\n",
    "        neigh = tree.query(cur_data, k=k)[1]\n",
    "        tmp_data = cur_data[neigh].reshape((len(cur_data), k * 4))\n",
    "        x = tmp_data[:, 1::4]\n",
    "        y = tmp_data[:, 2::4]\n",
    "        z = tmp_data[:, 3::4]\n",
    "        en = tmp_data[:, 0::4]\n",
    "        min_x = cur_data[x[::, 0].argmin()]\n",
    "        min_y = cur_data[y[::, 0].argmin()]\n",
    "        min_z = cur_data[z[::, 0].argmin()]\n",
    "        cur_data_coords = cur_data[::, 1:]\n",
    "\n",
    "        min_x_coords = min_x[1:]\n",
    "        min_y_coords = min_y[1:]\n",
    "        min_z_coords = min_z[1:]\n",
    "\n",
    "\n",
    "        min_x_energy = min_x[0]\n",
    "        min_y_energy = min_y[0]\n",
    "        min_z_energy = min_z[0]\n",
    "\n",
    "        cur_data_energy = cur_data[::, 0]\n",
    "\n",
    "        dif_x_eng = cur_data_energy - min_x_energy\n",
    "        dif_y_eng = cur_data_energy - min_y_energy\n",
    "        dif_z_eng = cur_data_energy - min_z_energy\n",
    "\n",
    "\n",
    "\n",
    "        x_dist = np.sum((cur_data_coords - min_x_coords) ** 2, axis=-1) ** 0.5\n",
    "        y_dist = np.sum((cur_data_coords - min_y_coords) ** 2, axis=-1) ** 0.5\n",
    "        z_dist = np.sum((cur_data_coords - min_z_coords) ** 2, axis=-1) ** 0.5\n",
    "\n",
    "        x_probs = get_pdf(cur_data[::, 1])[::, np.newaxis]\n",
    "        y_probs = get_pdf(cur_data[::, 2])[::, np.newaxis]\n",
    "        z_probs = get_pdf(cur_data[::, 3])[::, np.newaxis]\n",
    "        en_probs = get_pdf(cur_data[::, 0])[::, np.newaxis]\n",
    "\n",
    "        features = (tmp_data,\n",
    "                  x.mean(axis=-1)[::, np.newaxis],\n",
    "                  y.mean(axis=-1)[::, np.newaxis],\n",
    "                  z.mean(axis=-1)[::, np.newaxis],\n",
    "                  x.ptp(axis=-1)[::, np.newaxis],\n",
    "                  y.ptp(axis=-1)[::, np.newaxis],\n",
    "                  z.ptp(axis=-1)[::, np.newaxis],\n",
    "                  x.var(axis=-1)[::, np.newaxis],\n",
    "                  y.var(axis=-1)[::, np.newaxis],\n",
    "                  z.var(axis=-1)[::, np.newaxis],\n",
    "                  en.mean(axis=-1)[::, np.newaxis],\n",
    "                  en.std(axis=-1)[::, np.newaxis],\n",
    "                  en.var(axis=-1)[::, np.newaxis],\n",
    "                  en.ptp(axis=-1)[::, np.newaxis],\n",
    "                    x_dist[::, np.newaxis],\n",
    "                    y_dist[::, np.newaxis],\n",
    "                    z_dist[::, np.newaxis],\n",
    "                    dif_x_eng[::, np.newaxis],\n",
    "                    dif_y_eng[::, np.newaxis],\n",
    "                    dif_z_eng[::, np.newaxis],\n",
    "                    x_probs,\n",
    "                    y_probs,\n",
    "                    z_probs,\n",
    "                    en_probs\n",
    "                )\n",
    "\n",
    "        tmp_data = np.hstack(features)\n",
    "        extended_train.append(tmp_data)"
   ]
  },
  {
   "cell_type": "code",
   "execution_count": null,
   "metadata": {},
   "outputs": [],
   "source": []
  },
  {
   "cell_type": "code",
   "execution_count": null,
   "metadata": {},
   "outputs": [],
   "source": []
  },
  {
   "cell_type": "code",
   "execution_count": 69,
   "metadata": {},
   "outputs": [],
   "source": [
    "extended_train = np.concatenate(extended_train)\n",
    "#extended_val = np.concatenate(extended_val)\n",
    "extended_train_labels = np.concatenate(extended_labels)"
   ]
  },
  {
   "cell_type": "code",
   "execution_count": 86,
   "metadata": {},
   "outputs": [],
   "source": [
    "extended_test = np.concatenate(extended_test)"
   ]
  },
  {
   "cell_type": "code",
   "execution_count": 87,
   "metadata": {},
   "outputs": [],
   "source": [
    "extended_boxes = np.array(extended_boxes)"
   ]
  },
  {
   "cell_type": "code",
   "execution_count": 89,
   "metadata": {},
   "outputs": [
    {
     "data": {
      "text/plain": [
       "True"
      ]
     },
     "execution_count": 89,
     "metadata": {},
     "output_type": "execute_result"
    }
   ],
   "source": [
    "len(extended_boxes) == len(extended_test)"
   ]
  },
  {
   "cell_type": "code",
   "execution_count": 288,
   "metadata": {},
   "outputs": [
    {
     "data": {
      "text/plain": [
       "(27925412, 59)"
      ]
     },
     "execution_count": 288,
     "metadata": {},
     "output_type": "execute_result"
    }
   ],
   "source": [
    "extended_test.shape"
   ]
  },
  {
   "cell_type": "code",
   "execution_count": null,
   "metadata": {},
   "outputs": [],
   "source": []
  },
  {
   "cell_type": "code",
   "execution_count": null,
   "metadata": {},
   "outputs": [],
   "source": []
  },
  {
   "cell_type": "code",
   "execution_count": null,
   "metadata": {},
   "outputs": [],
   "source": []
  },
  {
   "cell_type": "code",
   "execution_count": 191,
   "metadata": {},
   "outputs": [],
   "source": [
    "y_train = full_train_label[full_train_ind < 8001]\n",
    "y_val = full_train_label[full_train_ind > 8000]"
   ]
  },
  {
   "cell_type": "code",
   "execution_count": 166,
   "metadata": {},
   "outputs": [
    {
     "data": {
      "text/plain": [
       "(10, 5, 4)"
      ]
     },
     "execution_count": 166,
     "metadata": {},
     "output_type": "execute_result"
    }
   ],
   "source": [
    "X_train[tree.query(X_train[:10], k=5)[1]].shape"
   ]
  },
  {
   "cell_type": "code",
   "execution_count": 126,
   "metadata": {},
   "outputs": [
    {
     "data": {
      "image/png": "[encoded data removed]",
      "text/plain": [
       "<matplotlib.figure.Figure at 0x7fdaff2d4e10>"
      ]
     },
     "metadata": {},
     "output_type": "display_data"
    }
   ],
   "source": [
    "f=tables.open_file(train_file, 'r')\n",
    "event_index = 599\n",
    "crop = f.root.data[event_index]\n",
    "data_labels = f.root.label[event_index]\n",
    "#crop = X_train[0]\n",
    "fig=plt.figure(figsize=(15, 10))\n",
    "ax = fig.add_subplot(111,projection='3d')\n",
    "x,y,z = np.where(crop>0)\n",
    "v=crop[crop>0]\n",
    "cv = ax.scatter(x,y,z,c=v, marker='o', vmin=0,vmax=40)\n",
    "plt.colorbar(cv)\n",
    "plt.show()\n",
    "f.close()"
   ]
  },
  {
   "cell_type": "code",
   "execution_count": 128,
   "metadata": {},
   "outputs": [],
   "source": [
    "x_zeros, y_zeros, z_zeros = np.where(crop==0)"
   ]
  },
  {
   "cell_type": "code",
   "execution_count": 133,
   "metadata": {},
   "outputs": [
    {
     "data": {
      "text/plain": [
       "array([0.], dtype=float32)"
      ]
     },
     "execution_count": 133,
     "metadata": {},
     "output_type": "execute_result"
    }
   ],
   "source": [
    "np.unique(data_labels[crop==0])"
   ]
  },
  {
   "cell_type": "code",
   "execution_count": null,
   "metadata": {},
   "outputs": [],
   "source": [
    "from plotly.offline import download_plotlyjs, init_notebook_mode, plot, iplot\n",
    "import plotly.plotly as py\n",
    "import plotly.graph_objs as go\n",
    "init_notebook_mode(connected=True)\n",
    "\n",
    "import numpy as np\n",
    "\n",
    "\n",
    "trace1 = go.Scatter3d(\n",
    "    x=x,\n",
    "    y=y,\n",
    "    z=z,\n",
    "    mode='markers',\n",
    "    marker=dict(\n",
    "        size=12,\n",
    "        line=dict(\n",
    "            color=data_labels[crop > 0],#'rgba(217, 217, 217, 0.14)',\n",
    "            width=0.5\n",
    "        ),\n",
    "        opacity=0.8\n",
    "    ), showlegend=True\n",
    ")\n",
    "\n",
    "\n",
    "data = [trace1]\n",
    "layout = go.Layout(\n",
    "    margin=dict(\n",
    "        l=0,\n",
    "        r=0,\n",
    "        b=0,\n",
    "        t=0\n",
    "    )\n",
    ")\n",
    "fig = go.Figure(data=data, layout=layout)\n",
    "iplot(fig, filename='simple-3d-scatter')"
   ]
  },
  {
   "cell_type": "code",
   "execution_count": null,
   "metadata": {},
   "outputs": [],
   "source": [
    "data_labels.shape"
   ]
  },
  {
   "cell_type": "code",
   "execution_count": null,
   "metadata": {},
   "outputs": [],
   "source": [
    "f=tables.open_file('test_1-2.hdf5', 'r')\n",
    "energy_scale = 255\n",
    "threshold = 0.5\n",
    "\n",
    "test_size = f.root.data.shape[0]\n",
    "f.close()"
   ]
  },
  {
   "cell_type": "code",
   "execution_count": null,
   "metadata": {},
   "outputs": [],
   "source": [
    "f_submission.close()"
   ]
  },
  {
   "cell_type": "code",
   "execution_count": 74,
   "metadata": {},
   "outputs": [],
   "source": [
    "TRAIN_SIZE = int(len(extended_train) * 0.995)"
   ]
  },
  {
   "cell_type": "code",
   "execution_count": 75,
   "metadata": {},
   "outputs": [
    {
     "data": {
      "text/plain": [
       "27853806"
      ]
     },
     "execution_count": 75,
     "metadata": {},
     "output_type": "execute_result"
    }
   ],
   "source": [
    "TRAIN_SIZE"
   ]
  },
  {
   "cell_type": "code",
   "execution_count": 255,
   "metadata": {},
   "outputs": [
    {
     "data": {
      "text/plain": [
       "(27993775,)"
      ]
     },
     "execution_count": 255,
     "metadata": {},
     "output_type": "execute_result"
    }
   ],
   "source": [
    "extended_train_labels.shape"
   ]
  },
  {
   "cell_type": "code",
   "execution_count": 76,
   "metadata": {
    "scrolled": true
   },
   "outputs": [
    {
     "name": "stdout",
     "output_type": "stream",
     "text": [
      "[1]\tvalid_0's multi_logloss: 1.26383\n",
      "[2]\tvalid_0's multi_logloss: 1.16349\n",
      "[3]\tvalid_0's multi_logloss: 1.07927\n",
      "[4]\tvalid_0's multi_logloss: 1.00743\n",
      "[5]\tvalid_0's multi_logloss: 0.945473\n",
      "[6]\tvalid_0's multi_logloss: 0.891244\n",
      "[7]\tvalid_0's multi_logloss: 0.843389\n",
      "[8]\tvalid_0's multi_logloss: 0.801165\n",
      "[9]\tvalid_0's multi_logloss: 0.763973\n",
      "[10]\tvalid_0's multi_logloss: 0.730503\n",
      "[11]\tvalid_0's multi_logloss: 0.700482\n",
      "[12]\tvalid_0's multi_logloss: 0.673866\n",
      "[13]\tvalid_0's multi_logloss: 0.649336\n",
      "[14]\tvalid_0's multi_logloss: 0.627626\n",
      "[15]\tvalid_0's multi_logloss: 0.60795\n",
      "[16]\tvalid_0's multi_logloss: 0.589991\n",
      "[17]\tvalid_0's multi_logloss: 0.573749\n",
      "[18]\tvalid_0's multi_logloss: 0.559082\n",
      "[19]\tvalid_0's multi_logloss: 0.545034\n",
      "[20]\tvalid_0's multi_logloss: 0.532885\n",
      "[21]\tvalid_0's multi_logloss: 0.521186\n",
      "[22]\tvalid_0's multi_logloss: 0.510704\n",
      "[23]\tvalid_0's multi_logloss: 0.501032\n",
      "[24]\tvalid_0's multi_logloss: 0.492575\n",
      "[25]\tvalid_0's multi_logloss: 0.484367\n",
      "[26]\tvalid_0's multi_logloss: 0.477151\n",
      "[27]\tvalid_0's multi_logloss: 0.470364\n",
      "[28]\tvalid_0's multi_logloss: 0.464196\n",
      "[29]\tvalid_0's multi_logloss: 0.458012\n",
      "[30]\tvalid_0's multi_logloss: 0.45292\n",
      "[31]\tvalid_0's multi_logloss: 0.447907\n",
      "[32]\tvalid_0's multi_logloss: 0.443698\n",
      "[33]\tvalid_0's multi_logloss: 0.439739\n",
      "[34]\tvalid_0's multi_logloss: 0.435444\n",
      "[35]\tvalid_0's multi_logloss: 0.432211\n",
      "[36]\tvalid_0's multi_logloss: 0.428648\n",
      "[37]\tvalid_0's multi_logloss: 0.425346\n",
      "[38]\tvalid_0's multi_logloss: 0.422452\n",
      "[39]\tvalid_0's multi_logloss: 0.419385\n",
      "[40]\tvalid_0's multi_logloss: 0.416927\n",
      "[41]\tvalid_0's multi_logloss: 0.414198\n",
      "[42]\tvalid_0's multi_logloss: 0.411774\n",
      "[43]\tvalid_0's multi_logloss: 0.409748\n",
      "[44]\tvalid_0's multi_logloss: 0.407524\n",
      "[45]\tvalid_0's multi_logloss: 0.405714\n",
      "[46]\tvalid_0's multi_logloss: 0.403685\n",
      "[47]\tvalid_0's multi_logloss: 0.401821\n",
      "[48]\tvalid_0's multi_logloss: 0.400245\n",
      "[49]\tvalid_0's multi_logloss: 0.398217\n",
      "[50]\tvalid_0's multi_logloss: 0.396726\n",
      "[51]\tvalid_0's multi_logloss: 0.395374\n",
      "[52]\tvalid_0's multi_logloss: 0.394095\n",
      "[53]\tvalid_0's multi_logloss: 0.39279\n",
      "[54]\tvalid_0's multi_logloss: 0.391525\n",
      "[55]\tvalid_0's multi_logloss: 0.390579\n",
      "[56]\tvalid_0's multi_logloss: 0.389188\n",
      "[57]\tvalid_0's multi_logloss: 0.388471\n",
      "[58]\tvalid_0's multi_logloss: 0.387374\n",
      "[59]\tvalid_0's multi_logloss: 0.386421\n",
      "[60]\tvalid_0's multi_logloss: 0.385761\n",
      "[61]\tvalid_0's multi_logloss: 0.384634\n",
      "[62]\tvalid_0's multi_logloss: 0.383831\n",
      "[63]\tvalid_0's multi_logloss: 0.383142\n",
      "[64]\tvalid_0's multi_logloss: 0.382245\n",
      "[65]\tvalid_0's multi_logloss: 0.381687\n",
      "[66]\tvalid_0's multi_logloss: 0.380866\n",
      "[67]\tvalid_0's multi_logloss: 0.380047\n",
      "[68]\tvalid_0's multi_logloss: 0.379604\n",
      "[69]\tvalid_0's multi_logloss: 0.378873\n",
      "[70]\tvalid_0's multi_logloss: 0.378186\n",
      "[71]\tvalid_0's multi_logloss: 0.377576\n",
      "[72]\tvalid_0's multi_logloss: 0.376875\n",
      "[73]\tvalid_0's multi_logloss: 0.376404\n",
      "[74]\tvalid_0's multi_logloss: 0.375913\n",
      "[75]\tvalid_0's multi_logloss: 0.375217\n",
      "[76]\tvalid_0's multi_logloss: 0.374425\n",
      "[77]\tvalid_0's multi_logloss: 0.373949\n",
      "[78]\tvalid_0's multi_logloss: 0.373419\n",
      "[79]\tvalid_0's multi_logloss: 0.372912\n",
      "[80]\tvalid_0's multi_logloss: 0.372261\n",
      "[81]\tvalid_0's multi_logloss: 0.372035\n",
      "[82]\tvalid_0's multi_logloss: 0.371567\n",
      "[83]\tvalid_0's multi_logloss: 0.371038\n",
      "[84]\tvalid_0's multi_logloss: 0.370611\n",
      "[85]\tvalid_0's multi_logloss: 0.370262\n",
      "[86]\tvalid_0's multi_logloss: 0.369758\n",
      "[87]\tvalid_0's multi_logloss: 0.369234\n",
      "[88]\tvalid_0's multi_logloss: 0.368806\n",
      "[89]\tvalid_0's multi_logloss: 0.368488\n",
      "[90]\tvalid_0's multi_logloss: 0.368186\n",
      "[91]\tvalid_0's multi_logloss: 0.367826\n",
      "[92]\tvalid_0's multi_logloss: 0.36744\n",
      "[93]\tvalid_0's multi_logloss: 0.367123\n",
      "[94]\tvalid_0's multi_logloss: 0.366804\n",
      "[95]\tvalid_0's multi_logloss: 0.366489\n",
      "[96]\tvalid_0's multi_logloss: 0.366102\n",
      "[97]\tvalid_0's multi_logloss: 0.365743\n",
      "[98]\tvalid_0's multi_logloss: 0.365634\n",
      "[99]\tvalid_0's multi_logloss: 0.365377\n",
      "[100]\tvalid_0's multi_logloss: 0.364871\n",
      "[101]\tvalid_0's multi_logloss: 0.364474\n",
      "[102]\tvalid_0's multi_logloss: 0.364138\n",
      "[103]\tvalid_0's multi_logloss: 0.363944\n",
      "[104]\tvalid_0's multi_logloss: 0.363877\n",
      "[105]\tvalid_0's multi_logloss: 0.363744\n",
      "[106]\tvalid_0's multi_logloss: 0.363349\n",
      "[107]\tvalid_0's multi_logloss: 0.363045\n",
      "[108]\tvalid_0's multi_logloss: 0.362785\n",
      "[109]\tvalid_0's multi_logloss: 0.362555\n",
      "[110]\tvalid_0's multi_logloss: 0.362264\n",
      "[111]\tvalid_0's multi_logloss: 0.362015\n",
      "[112]\tvalid_0's multi_logloss: 0.361847\n",
      "[113]\tvalid_0's multi_logloss: 0.361518\n",
      "[114]\tvalid_0's multi_logloss: 0.361254\n",
      "[115]\tvalid_0's multi_logloss: 0.36119\n",
      "[116]\tvalid_0's multi_logloss: 0.360953\n",
      "[117]\tvalid_0's multi_logloss: 0.360664\n",
      "[118]\tvalid_0's multi_logloss: 0.360369\n",
      "[119]\tvalid_0's multi_logloss: 0.360166\n",
      "[120]\tvalid_0's multi_logloss: 0.359933\n",
      "[121]\tvalid_0's multi_logloss: 0.359792\n",
      "[122]\tvalid_0's multi_logloss: 0.359599\n",
      "[123]\tvalid_0's multi_logloss: 0.359264\n",
      "[124]\tvalid_0's multi_logloss: 0.359059\n",
      "[125]\tvalid_0's multi_logloss: 0.358987\n",
      "[126]\tvalid_0's multi_logloss: 0.358665\n",
      "[127]\tvalid_0's multi_logloss: 0.358402\n",
      "[128]\tvalid_0's multi_logloss: 0.358233\n",
      "[129]\tvalid_0's multi_logloss: 0.358146\n",
      "[130]\tvalid_0's multi_logloss: 0.357941\n",
      "[131]\tvalid_0's multi_logloss: 0.357672\n",
      "[132]\tvalid_0's multi_logloss: 0.357553\n",
      "[133]\tvalid_0's multi_logloss: 0.35734\n",
      "[134]\tvalid_0's multi_logloss: 0.357258\n",
      "[135]\tvalid_0's multi_logloss: 0.357014\n",
      "[136]\tvalid_0's multi_logloss: 0.356836\n",
      "[137]\tvalid_0's multi_logloss: 0.356701\n",
      "[138]\tvalid_0's multi_logloss: 0.356579\n",
      "[139]\tvalid_0's multi_logloss: 0.356446\n",
      "[140]\tvalid_0's multi_logloss: 0.356434\n",
      "[141]\tvalid_0's multi_logloss: 0.356214\n",
      "[142]\tvalid_0's multi_logloss: 0.356039\n",
      "[143]\tvalid_0's multi_logloss: 0.355862\n",
      "[144]\tvalid_0's multi_logloss: 0.355767\n",
      "[145]\tvalid_0's multi_logloss: 0.355529\n",
      "[146]\tvalid_0's multi_logloss: 0.35533\n",
      "[147]\tvalid_0's multi_logloss: 0.355238\n",
      "[148]\tvalid_0's multi_logloss: 0.355173\n",
      "[149]\tvalid_0's multi_logloss: 0.355033\n",
      "[150]\tvalid_0's multi_logloss: 0.354923\n",
      "[151]\tvalid_0's multi_logloss: 0.354785\n",
      "[152]\tvalid_0's multi_logloss: 0.35466\n",
      "[153]\tvalid_0's multi_logloss: 0.354475\n",
      "[154]\tvalid_0's multi_logloss: 0.354354\n",
      "[155]\tvalid_0's multi_logloss: 0.354223\n",
      "[156]\tvalid_0's multi_logloss: 0.354106\n",
      "[157]\tvalid_0's multi_logloss: 0.354082\n",
      "[158]\tvalid_0's multi_logloss: 0.353934\n",
      "[159]\tvalid_0's multi_logloss: 0.35376\n",
      "[160]\tvalid_0's multi_logloss: 0.353642\n",
      "[161]\tvalid_0's multi_logloss: 0.353554\n",
      "[162]\tvalid_0's multi_logloss: 0.353438\n",
      "[163]\tvalid_0's multi_logloss: 0.353378\n",
      "[164]\tvalid_0's multi_logloss: 0.353293\n",
      "[165]\tvalid_0's multi_logloss: 0.353173\n",
      "[166]\tvalid_0's multi_logloss: 0.35304\n",
      "[167]\tvalid_0's multi_logloss: 0.352895\n",
      "[168]\tvalid_0's multi_logloss: 0.352781\n",
      "[169]\tvalid_0's multi_logloss: 0.35271\n",
      "[170]\tvalid_0's multi_logloss: 0.352574\n",
      "[171]\tvalid_0's multi_logloss: 0.352501\n",
      "[172]\tvalid_0's multi_logloss: 0.352422\n",
      "[173]\tvalid_0's multi_logloss: 0.352293\n",
      "[174]\tvalid_0's multi_logloss: 0.352213\n",
      "[175]\tvalid_0's multi_logloss: 0.352176\n",
      "[176]\tvalid_0's multi_logloss: 0.352073\n",
      "[177]\tvalid_0's multi_logloss: 0.351992\n",
      "[178]\tvalid_0's multi_logloss: 0.351845\n",
      "[179]\tvalid_0's multi_logloss: 0.351738\n",
      "[180]\tvalid_0's multi_logloss: 0.351611\n",
      "[181]\tvalid_0's multi_logloss: 0.351455\n",
      "[182]\tvalid_0's multi_logloss: 0.351381\n",
      "[183]\tvalid_0's multi_logloss: 0.351352\n",
      "[184]\tvalid_0's multi_logloss: 0.351137\n",
      "[185]\tvalid_0's multi_logloss: 0.351025\n",
      "[186]\tvalid_0's multi_logloss: 0.350899\n",
      "[187]\tvalid_0's multi_logloss: 0.350904\n",
      "[188]\tvalid_0's multi_logloss: 0.350798\n",
      "[189]\tvalid_0's multi_logloss: 0.350731\n",
      "[190]\tvalid_0's multi_logloss: 0.35071\n",
      "[191]\tvalid_0's multi_logloss: 0.350633\n",
      "[192]\tvalid_0's multi_logloss: 0.350548\n",
      "[193]\tvalid_0's multi_logloss: 0.350468\n",
      "[194]\tvalid_0's multi_logloss: 0.350332\n",
      "[195]\tvalid_0's multi_logloss: 0.350184\n",
      "[196]\tvalid_0's multi_logloss: 0.350075\n",
      "[197]\tvalid_0's multi_logloss: 0.350014\n",
      "[198]\tvalid_0's multi_logloss: 0.349905\n",
      "[199]\tvalid_0's multi_logloss: 0.349858\n",
      "[200]\tvalid_0's multi_logloss: 0.349859\n",
      "[201]\tvalid_0's multi_logloss: 0.349738\n",
      "[202]\tvalid_0's multi_logloss: 0.349665\n",
      "[203]\tvalid_0's multi_logloss: 0.349553\n",
      "[204]\tvalid_0's multi_logloss: 0.349585\n",
      "[205]\tvalid_0's multi_logloss: 0.349491\n",
      "[206]\tvalid_0's multi_logloss: 0.349416\n",
      "[207]\tvalid_0's multi_logloss: 0.349352\n",
      "[208]\tvalid_0's multi_logloss: 0.349283\n"
     ]
    },
    {
     "name": "stdout",
     "output_type": "stream",
     "text": [
      "[209]\tvalid_0's multi_logloss: 0.349175\n",
      "[210]\tvalid_0's multi_logloss: 0.349179\n",
      "[211]\tvalid_0's multi_logloss: 0.349073\n",
      "[212]\tvalid_0's multi_logloss: 0.34897\n",
      "[213]\tvalid_0's multi_logloss: 0.348928\n",
      "[214]\tvalid_0's multi_logloss: 0.348885\n",
      "[215]\tvalid_0's multi_logloss: 0.348809\n",
      "[216]\tvalid_0's multi_logloss: 0.348736\n",
      "[217]\tvalid_0's multi_logloss: 0.348628\n",
      "[218]\tvalid_0's multi_logloss: 0.348591\n",
      "[219]\tvalid_0's multi_logloss: 0.348537\n",
      "[220]\tvalid_0's multi_logloss: 0.348469\n",
      "[221]\tvalid_0's multi_logloss: 0.348368\n",
      "[222]\tvalid_0's multi_logloss: 0.348325\n",
      "[223]\tvalid_0's multi_logloss: 0.348301\n",
      "[224]\tvalid_0's multi_logloss: 0.34833\n",
      "[225]\tvalid_0's multi_logloss: 0.348275\n",
      "[226]\tvalid_0's multi_logloss: 0.348152\n",
      "[227]\tvalid_0's multi_logloss: 0.348173\n",
      "[228]\tvalid_0's multi_logloss: 0.348046\n",
      "[229]\tvalid_0's multi_logloss: 0.347951\n",
      "[230]\tvalid_0's multi_logloss: 0.347937\n",
      "[231]\tvalid_0's multi_logloss: 0.3479\n",
      "[232]\tvalid_0's multi_logloss: 0.347911\n",
      "[233]\tvalid_0's multi_logloss: 0.347962\n",
      "[234]\tvalid_0's multi_logloss: 0.347886\n",
      "[235]\tvalid_0's multi_logloss: 0.347831\n",
      "[236]\tvalid_0's multi_logloss: 0.347813\n",
      "[237]\tvalid_0's multi_logloss: 0.347776\n",
      "[238]\tvalid_0's multi_logloss: 0.347695\n",
      "[239]\tvalid_0's multi_logloss: 0.347647\n",
      "[240]\tvalid_0's multi_logloss: 0.347557\n",
      "[241]\tvalid_0's multi_logloss: 0.347533\n",
      "[242]\tvalid_0's multi_logloss: 0.347442\n",
      "[243]\tvalid_0's multi_logloss: 0.347356\n",
      "[244]\tvalid_0's multi_logloss: 0.347306\n",
      "[245]\tvalid_0's multi_logloss: 0.347208\n",
      "[246]\tvalid_0's multi_logloss: 0.347149\n",
      "[247]\tvalid_0's multi_logloss: 0.347118\n",
      "[248]\tvalid_0's multi_logloss: 0.347116\n",
      "[249]\tvalid_0's multi_logloss: 0.347041\n",
      "[250]\tvalid_0's multi_logloss: 0.346983\n",
      "[251]\tvalid_0's multi_logloss: 0.346906\n",
      "[252]\tvalid_0's multi_logloss: 0.34686\n",
      "[253]\tvalid_0's multi_logloss: 0.346808\n",
      "[254]\tvalid_0's multi_logloss: 0.346727\n",
      "[255]\tvalid_0's multi_logloss: 0.346687\n",
      "[256]\tvalid_0's multi_logloss: 0.346569\n",
      "[257]\tvalid_0's multi_logloss: 0.346474\n",
      "[258]\tvalid_0's multi_logloss: 0.346347\n",
      "[259]\tvalid_0's multi_logloss: 0.346199\n",
      "[260]\tvalid_0's multi_logloss: 0.346222\n",
      "[261]\tvalid_0's multi_logloss: 0.346222\n",
      "[262]\tvalid_0's multi_logloss: 0.346157\n",
      "[263]\tvalid_0's multi_logloss: 0.346111\n",
      "[264]\tvalid_0's multi_logloss: 0.346077\n",
      "[265]\tvalid_0's multi_logloss: 0.346023\n",
      "[266]\tvalid_0's multi_logloss: 0.34601\n",
      "[267]\tvalid_0's multi_logloss: 0.345965\n",
      "[268]\tvalid_0's multi_logloss: 0.345833\n",
      "[269]\tvalid_0's multi_logloss: 0.345806\n",
      "[270]\tvalid_0's multi_logloss: 0.345789\n",
      "[271]\tvalid_0's multi_logloss: 0.345688\n",
      "[272]\tvalid_0's multi_logloss: 0.345597\n",
      "[273]\tvalid_0's multi_logloss: 0.345495\n",
      "[274]\tvalid_0's multi_logloss: 0.34544\n",
      "[275]\tvalid_0's multi_logloss: 0.345384\n",
      "[276]\tvalid_0's multi_logloss: 0.345318\n",
      "[277]\tvalid_0's multi_logloss: 0.345233\n",
      "[278]\tvalid_0's multi_logloss: 0.345178\n",
      "[279]\tvalid_0's multi_logloss: 0.345173\n",
      "[280]\tvalid_0's multi_logloss: 0.345123\n",
      "[281]\tvalid_0's multi_logloss: 0.345064\n",
      "[282]\tvalid_0's multi_logloss: 0.344959\n",
      "[283]\tvalid_0's multi_logloss: 0.344961\n",
      "[284]\tvalid_0's multi_logloss: 0.344869\n",
      "[285]\tvalid_0's multi_logloss: 0.344797\n",
      "[286]\tvalid_0's multi_logloss: 0.344785\n",
      "[287]\tvalid_0's multi_logloss: 0.344814\n",
      "[288]\tvalid_0's multi_logloss: 0.344801\n",
      "[289]\tvalid_0's multi_logloss: 0.344652\n",
      "[290]\tvalid_0's multi_logloss: 0.344693\n",
      "[291]\tvalid_0's multi_logloss: 0.344621\n",
      "[292]\tvalid_0's multi_logloss: 0.344559\n",
      "[293]\tvalid_0's multi_logloss: 0.344477\n",
      "[294]\tvalid_0's multi_logloss: 0.344437\n",
      "[295]\tvalid_0's multi_logloss: 0.344378\n",
      "[296]\tvalid_0's multi_logloss: 0.344391\n",
      "[297]\tvalid_0's multi_logloss: 0.344342\n",
      "[298]\tvalid_0's multi_logloss: 0.344254\n",
      "[299]\tvalid_0's multi_logloss: 0.344151\n",
      "[300]\tvalid_0's multi_logloss: 0.344127\n",
      "[301]\tvalid_0's multi_logloss: 0.344067\n",
      "[302]\tvalid_0's multi_logloss: 0.344068\n",
      "[303]\tvalid_0's multi_logloss: 0.34394\n",
      "[304]\tvalid_0's multi_logloss: 0.343892\n",
      "[305]\tvalid_0's multi_logloss: 0.343798\n",
      "[306]\tvalid_0's multi_logloss: 0.343679\n",
      "[307]\tvalid_0's multi_logloss: 0.343601\n",
      "[308]\tvalid_0's multi_logloss: 0.343549\n",
      "[309]\tvalid_0's multi_logloss: 0.343494\n",
      "[310]\tvalid_0's multi_logloss: 0.343347\n",
      "[311]\tvalid_0's multi_logloss: 0.343293\n",
      "[312]\tvalid_0's multi_logloss: 0.343298\n",
      "[313]\tvalid_0's multi_logloss: 0.343239\n",
      "[314]\tvalid_0's multi_logloss: 0.343204\n",
      "[315]\tvalid_0's multi_logloss: 0.343138\n",
      "[316]\tvalid_0's multi_logloss: 0.343097\n",
      "[317]\tvalid_0's multi_logloss: 0.34305\n",
      "[318]\tvalid_0's multi_logloss: 0.342987\n",
      "[319]\tvalid_0's multi_logloss: 0.342896\n",
      "[320]\tvalid_0's multi_logloss: 0.342828\n",
      "[321]\tvalid_0's multi_logloss: 0.342777\n",
      "[322]\tvalid_0's multi_logloss: 0.342714\n",
      "[323]\tvalid_0's multi_logloss: 0.34266\n",
      "[324]\tvalid_0's multi_logloss: 0.342657\n",
      "[325]\tvalid_0's multi_logloss: 0.342629\n",
      "[326]\tvalid_0's multi_logloss: 0.342584\n",
      "[327]\tvalid_0's multi_logloss: 0.342538\n",
      "[328]\tvalid_0's multi_logloss: 0.342511\n",
      "[329]\tvalid_0's multi_logloss: 0.342426\n",
      "[330]\tvalid_0's multi_logloss: 0.342387\n",
      "[331]\tvalid_0's multi_logloss: 0.34235\n",
      "[332]\tvalid_0's multi_logloss: 0.342285\n",
      "[333]\tvalid_0's multi_logloss: 0.342219\n",
      "[334]\tvalid_0's multi_logloss: 0.342136\n",
      "[335]\tvalid_0's multi_logloss: 0.342092\n",
      "[336]\tvalid_0's multi_logloss: 0.342071\n",
      "[337]\tvalid_0's multi_logloss: 0.342028\n",
      "[338]\tvalid_0's multi_logloss: 0.342\n",
      "[339]\tvalid_0's multi_logloss: 0.34195\n",
      "[340]\tvalid_0's multi_logloss: 0.341906\n",
      "[341]\tvalid_0's multi_logloss: 0.341932\n",
      "[342]\tvalid_0's multi_logloss: 0.341902\n",
      "[343]\tvalid_0's multi_logloss: 0.341867\n",
      "[344]\tvalid_0's multi_logloss: 0.34182\n",
      "[345]\tvalid_0's multi_logloss: 0.341809\n",
      "[346]\tvalid_0's multi_logloss: 0.341722\n",
      "[347]\tvalid_0's multi_logloss: 0.341686\n",
      "[348]\tvalid_0's multi_logloss: 0.341633\n",
      "[349]\tvalid_0's multi_logloss: 0.34164\n",
      "[350]\tvalid_0's multi_logloss: 0.341592\n",
      "[351]\tvalid_0's multi_logloss: 0.341534\n",
      "[352]\tvalid_0's multi_logloss: 0.341502\n",
      "[353]\tvalid_0's multi_logloss: 0.341463\n",
      "[354]\tvalid_0's multi_logloss: 0.341431\n",
      "[355]\tvalid_0's multi_logloss: 0.341421\n",
      "[356]\tvalid_0's multi_logloss: 0.341409\n",
      "[357]\tvalid_0's multi_logloss: 0.341325\n",
      "[358]\tvalid_0's multi_logloss: 0.341329\n",
      "[359]\tvalid_0's multi_logloss: 0.34125\n",
      "[360]\tvalid_0's multi_logloss: 0.341276\n",
      "[361]\tvalid_0's multi_logloss: 0.341245\n",
      "[362]\tvalid_0's multi_logloss: 0.341195\n",
      "[363]\tvalid_0's multi_logloss: 0.341138\n",
      "[364]\tvalid_0's multi_logloss: 0.341123\n",
      "[365]\tvalid_0's multi_logloss: 0.341198\n",
      "[366]\tvalid_0's multi_logloss: 0.341217\n",
      "[367]\tvalid_0's multi_logloss: 0.341167\n",
      "[368]\tvalid_0's multi_logloss: 0.341104\n",
      "[369]\tvalid_0's multi_logloss: 0.341105\n",
      "[370]\tvalid_0's multi_logloss: 0.341084\n",
      "[371]\tvalid_0's multi_logloss: 0.341016\n",
      "[372]\tvalid_0's multi_logloss: 0.340972\n",
      "[373]\tvalid_0's multi_logloss: 0.340947\n",
      "[374]\tvalid_0's multi_logloss: 0.340863\n",
      "[375]\tvalid_0's multi_logloss: 0.340804\n",
      "[376]\tvalid_0's multi_logloss: 0.340807\n",
      "[377]\tvalid_0's multi_logloss: 0.340744\n",
      "[378]\tvalid_0's multi_logloss: 0.340665\n",
      "[379]\tvalid_0's multi_logloss: 0.340737\n",
      "[380]\tvalid_0's multi_logloss: 0.340733\n",
      "[381]\tvalid_0's multi_logloss: 0.340663\n",
      "[382]\tvalid_0's multi_logloss: 0.340677\n",
      "[383]\tvalid_0's multi_logloss: 0.340618\n",
      "[384]\tvalid_0's multi_logloss: 0.340615\n",
      "[385]\tvalid_0's multi_logloss: 0.340563\n",
      "[386]\tvalid_0's multi_logloss: 0.340524\n",
      "[387]\tvalid_0's multi_logloss: 0.340544\n",
      "[388]\tvalid_0's multi_logloss: 0.340524\n",
      "[389]\tvalid_0's multi_logloss: 0.340477\n",
      "[390]\tvalid_0's multi_logloss: 0.340459\n",
      "[391]\tvalid_0's multi_logloss: 0.340444\n",
      "[392]\tvalid_0's multi_logloss: 0.340395\n",
      "[393]\tvalid_0's multi_logloss: 0.340316\n",
      "[394]\tvalid_0's multi_logloss: 0.340251\n",
      "[395]\tvalid_0's multi_logloss: 0.340211\n",
      "[396]\tvalid_0's multi_logloss: 0.340191\n",
      "[397]\tvalid_0's multi_logloss: 0.340213\n",
      "[398]\tvalid_0's multi_logloss: 0.340168\n",
      "[399]\tvalid_0's multi_logloss: 0.340138\n",
      "[400]\tvalid_0's multi_logloss: 0.34011\n",
      "[401]\tvalid_0's multi_logloss: 0.340082\n",
      "[402]\tvalid_0's multi_logloss: 0.340015\n",
      "[403]\tvalid_0's multi_logloss: 0.339959\n",
      "[404]\tvalid_0's multi_logloss: 0.339917\n",
      "[405]\tvalid_0's multi_logloss: 0.339895\n",
      "[406]\tvalid_0's multi_logloss: 0.339869\n",
      "[407]\tvalid_0's multi_logloss: 0.339871\n",
      "[408]\tvalid_0's multi_logloss: 0.339879\n",
      "[409]\tvalid_0's multi_logloss: 0.339745\n",
      "[410]\tvalid_0's multi_logloss: 0.33969\n",
      "[411]\tvalid_0's multi_logloss: 0.339648\n",
      "[412]\tvalid_0's multi_logloss: 0.33964\n",
      "[413]\tvalid_0's multi_logloss: 0.339619\n",
      "[414]\tvalid_0's multi_logloss: 0.339551\n"
     ]
    },
    {
     "name": "stdout",
     "output_type": "stream",
     "text": [
      "[415]\tvalid_0's multi_logloss: 0.339494\n",
      "[416]\tvalid_0's multi_logloss: 0.339472\n",
      "[417]\tvalid_0's multi_logloss: 0.339406\n",
      "[418]\tvalid_0's multi_logloss: 0.339396\n",
      "[419]\tvalid_0's multi_logloss: 0.339419\n",
      "[420]\tvalid_0's multi_logloss: 0.339374\n",
      "[421]\tvalid_0's multi_logloss: 0.33935\n",
      "[422]\tvalid_0's multi_logloss: 0.339335\n",
      "[423]\tvalid_0's multi_logloss: 0.339295\n",
      "[424]\tvalid_0's multi_logloss: 0.339234\n",
      "[425]\tvalid_0's multi_logloss: 0.339193\n",
      "[426]\tvalid_0's multi_logloss: 0.339186\n",
      "[427]\tvalid_0's multi_logloss: 0.339117\n",
      "[428]\tvalid_0's multi_logloss: 0.339112\n",
      "[429]\tvalid_0's multi_logloss: 0.339115\n",
      "[430]\tvalid_0's multi_logloss: 0.339109\n",
      "[431]\tvalid_0's multi_logloss: 0.339044\n",
      "[432]\tvalid_0's multi_logloss: 0.339022\n",
      "[433]\tvalid_0's multi_logloss: 0.338989\n",
      "[434]\tvalid_0's multi_logloss: 0.338951\n",
      "[435]\tvalid_0's multi_logloss: 0.338907\n",
      "[436]\tvalid_0's multi_logloss: 0.338921\n",
      "[437]\tvalid_0's multi_logloss: 0.338871\n",
      "[438]\tvalid_0's multi_logloss: 0.338899\n",
      "[439]\tvalid_0's multi_logloss: 0.338951\n",
      "[440]\tvalid_0's multi_logloss: 0.338951\n",
      "[441]\tvalid_0's multi_logloss: 0.338918\n",
      "[442]\tvalid_0's multi_logloss: 0.338896\n",
      "[443]\tvalid_0's multi_logloss: 0.338846\n",
      "[444]\tvalid_0's multi_logloss: 0.338812\n",
      "[445]\tvalid_0's multi_logloss: 0.338746\n",
      "[446]\tvalid_0's multi_logloss: 0.338724\n",
      "[447]\tvalid_0's multi_logloss: 0.338687\n",
      "[448]\tvalid_0's multi_logloss: 0.338696\n",
      "[449]\tvalid_0's multi_logloss: 0.33868\n",
      "[450]\tvalid_0's multi_logloss: 0.338632\n",
      "[451]\tvalid_0's multi_logloss: 0.338581\n",
      "[452]\tvalid_0's multi_logloss: 0.338509\n",
      "[453]\tvalid_0's multi_logloss: 0.338498\n",
      "[454]\tvalid_0's multi_logloss: 0.33845\n",
      "[455]\tvalid_0's multi_logloss: 0.338431\n",
      "[456]\tvalid_0's multi_logloss: 0.338415\n",
      "[457]\tvalid_0's multi_logloss: 0.338392\n",
      "[458]\tvalid_0's multi_logloss: 0.338379\n",
      "[459]\tvalid_0's multi_logloss: 0.338356\n",
      "[460]\tvalid_0's multi_logloss: 0.33835\n",
      "[461]\tvalid_0's multi_logloss: 0.338337\n",
      "[462]\tvalid_0's multi_logloss: 0.338314\n",
      "[463]\tvalid_0's multi_logloss: 0.338309\n",
      "[464]\tvalid_0's multi_logloss: 0.338281\n",
      "[465]\tvalid_0's multi_logloss: 0.338174\n",
      "[466]\tvalid_0's multi_logloss: 0.33815\n",
      "[467]\tvalid_0's multi_logloss: 0.338133\n",
      "[468]\tvalid_0's multi_logloss: 0.338113\n",
      "[469]\tvalid_0's multi_logloss: 0.33808\n",
      "[470]\tvalid_0's multi_logloss: 0.338063\n",
      "[471]\tvalid_0's multi_logloss: 0.33803\n",
      "[472]\tvalid_0's multi_logloss: 0.338032\n",
      "[473]\tvalid_0's multi_logloss: 0.337983\n",
      "[474]\tvalid_0's multi_logloss: 0.337956\n",
      "[475]\tvalid_0's multi_logloss: 0.337954\n",
      "[476]\tvalid_0's multi_logloss: 0.337908\n",
      "[477]\tvalid_0's multi_logloss: 0.337873\n",
      "[478]\tvalid_0's multi_logloss: 0.337813\n",
      "[479]\tvalid_0's multi_logloss: 0.337781\n",
      "[480]\tvalid_0's multi_logloss: 0.337756\n",
      "[481]\tvalid_0's multi_logloss: 0.337746\n",
      "[482]\tvalid_0's multi_logloss: 0.337687\n",
      "[483]\tvalid_0's multi_logloss: 0.337682\n",
      "[484]\tvalid_0's multi_logloss: 0.337722\n",
      "[485]\tvalid_0's multi_logloss: 0.337674\n",
      "[486]\tvalid_0's multi_logloss: 0.337617\n",
      "[487]\tvalid_0's multi_logloss: 0.337582\n",
      "[488]\tvalid_0's multi_logloss: 0.337496\n",
      "[489]\tvalid_0's multi_logloss: 0.33747\n",
      "[490]\tvalid_0's multi_logloss: 0.337545\n",
      "[491]\tvalid_0's multi_logloss: 0.337486\n",
      "[492]\tvalid_0's multi_logloss: 0.337459\n",
      "[493]\tvalid_0's multi_logloss: 0.337427\n",
      "[494]\tvalid_0's multi_logloss: 0.337395\n",
      "[495]\tvalid_0's multi_logloss: 0.337413\n",
      "[496]\tvalid_0's multi_logloss: 0.33743\n",
      "[497]\tvalid_0's multi_logloss: 0.33738\n",
      "[498]\tvalid_0's multi_logloss: 0.337365\n",
      "[499]\tvalid_0's multi_logloss: 0.337323\n",
      "[500]\tvalid_0's multi_logloss: 0.337306\n"
     ]
    },
    {
     "data": {
      "text/plain": [
       "LGBMClassifier(boosting_type='gbdt', colsample_bytree=1, learning_rate=0.1,\n",
       "        max_bin=255, max_depth=-1, min_child_samples=10,\n",
       "        min_child_weight=5, min_split_gain=0, n_estimators=500, nthread=-1,\n",
       "        num_leaves=31, objective='multiclass', reg_alpha=0, reg_lambda=0,\n",
       "        seed=0, silent=True, subsample=1, subsample_for_bin=50000,\n",
       "        subsample_freq=1)"
      ]
     },
     "execution_count": 76,
     "metadata": {},
     "output_type": "execute_result"
    }
   ],
   "source": [
    "from xgboost import XGBClassifier\n",
    "from lightgbm import LGBMClassifier\n",
    "\n",
    "model = LGBMClassifier(objective='multiclass', n_estimators=500)\n",
    "model.fit(extended_train[:TRAIN_SIZE], extended_train_labels[:TRAIN_SIZE],\n",
    "          eval_set=[(extended_train[TRAIN_SIZE:], extended_train_labels[TRAIN_SIZE:])])"
   ]
  },
  {
   "cell_type": "code",
   "execution_count": 78,
   "metadata": {},
   "outputs": [],
   "source": [
    "import pickle\n",
    "\n",
    "with open('lgbm_model_6neigh_hist.pickle', 'wb') as f:\n",
    "    pickle.dump(model, f)"
   ]
  },
  {
   "cell_type": "code",
   "execution_count": 77,
   "metadata": {},
   "outputs": [
    {
     "name": "stderr",
     "output_type": "stream",
     "text": [
      "/mnt/mlhep2018/pyenv/versions/3.6.6/envs/mlhep/lib/python3.6/site-packages/sklearn/preprocessing/label.py:151: DeprecationWarning: The truth value of an empty array is ambiguous. Returning False, but in future this will result in an error. Use `array.size > 0` to check that an array is not empty.\n",
      "  if diff:\n"
     ]
    },
    {
     "data": {
      "text/plain": [
       "0.8505526223663811"
      ]
     },
     "execution_count": 77,
     "metadata": {},
     "output_type": "execute_result"
    }
   ],
   "source": [
    "from sklearn.metrics import accuracy_score\n",
    "\n",
    "accuracy_score(extended_train_labels[TRAIN_SIZE:], model.predict(extended_train[TRAIN_SIZE:]))"
   ]
  },
  {
   "cell_type": "code",
   "execution_count": 242,
   "metadata": {},
   "outputs": [
    {
     "name": "stderr",
     "output_type": "stream",
     "text": [
      "/mnt/mlhep2018/pyenv/versions/3.6.6/envs/mlhep/lib/python3.6/site-packages/sklearn/preprocessing/label.py:151: DeprecationWarning: The truth value of an empty array is ambiguous. Returning False, but in future this will result in an error. Use `array.size > 0` to check that an array is not empty.\n",
      "  if diff:\n"
     ]
    },
    {
     "data": {
      "text/plain": [
       "0.8036476772493232"
      ]
     },
     "execution_count": 242,
     "metadata": {},
     "output_type": "execute_result"
    }
   ],
   "source": [
    "from sklearn.metrics import accuracy_score\n",
    "\n",
    "accuracy_score(y_val, model.predict(extended_val))"
   ]
  },
  {
   "cell_type": "code",
   "execution_count": 211,
   "metadata": {},
   "outputs": [
    {
     "name": "stderr",
     "output_type": "stream",
     "text": [
      "/mnt/mlhep2018/pyenv/versions/3.6.6/envs/mlhep/lib/python3.6/site-packages/sklearn/preprocessing/label.py:151: DeprecationWarning: The truth value of an empty array is ambiguous. Returning False, but in future this will result in an error. Use `array.size > 0` to check that an array is not empty.\n",
      "  if diff:\n"
     ]
    },
    {
     "data": {
      "text/plain": [
       "0.791246328624877"
      ]
     },
     "execution_count": 211,
     "metadata": {},
     "output_type": "execute_result"
    }
   ],
   "source": [
    "from sklearn.metrics import accuracy_score\n",
    "\n",
    "accuracy_score(y_val, model.predict(extended_val))"
   ]
  },
  {
   "cell_type": "code",
   "execution_count": 194,
   "metadata": {},
   "outputs": [
    {
     "name": "stderr",
     "output_type": "stream",
     "text": [
      "/mnt/mlhep2018/pyenv/versions/3.6.6/envs/mlhep/lib/python3.6/site-packages/sklearn/preprocessing/label.py:151: DeprecationWarning: The truth value of an empty array is ambiguous. Returning False, but in future this will result in an error. Use `array.size > 0` to check that an array is not empty.\n",
      "  if diff:\n"
     ]
    },
    {
     "data": {
      "text/plain": [
       "0.7856793031388911"
      ]
     },
     "execution_count": 194,
     "metadata": {},
     "output_type": "execute_result"
    }
   ],
   "source": [
    "from sklearn.metrics import accuracy_score\n",
    "\n",
    "accuracy_score(y_val, model.predict(extended_val))"
   ]
  },
  {
   "cell_type": "code",
   "execution_count": 83,
   "metadata": {},
   "outputs": [
    {
     "name": "stderr",
     "output_type": "stream",
     "text": [
      "/mnt/mlhep2018/pyenv/versions/3.6.6/envs/mlhep/lib/python3.6/site-packages/sklearn/preprocessing/label.py:151: DeprecationWarning: The truth value of an empty array is ambiguous. Returning False, but in future this will result in an error. Use `array.size > 0` to check that an array is not empty.\n",
      "  if diff:\n"
     ]
    },
    {
     "data": {
      "text/plain": [
       "0.7223996969544642"
      ]
     },
     "execution_count": 83,
     "metadata": {},
     "output_type": "execute_result"
    }
   ],
   "source": [
    "from sklearn.metrics import accuracy_score\n",
    "\n",
    "accuracy_score(y_val, model.predict(X_val))"
   ]
  },
  {
   "cell_type": "code",
   "execution_count": 289,
   "metadata": {},
   "outputs": [
    {
     "data": {
      "text/plain": [
       "True"
      ]
     },
     "execution_count": 289,
     "metadata": {},
     "output_type": "execute_result"
    }
   ],
   "source": [
    "len(extended_test) == len(extended_boxes)"
   ]
  },
  {
   "cell_type": "code",
   "execution_count": 90,
   "metadata": {},
   "outputs": [],
   "source": [
    "test_pred = model.predict_proba(extended_test)"
   ]
  },
  {
   "cell_type": "code",
   "execution_count": 91,
   "metadata": {},
   "outputs": [
    {
     "data": {
      "text/plain": [
       "array([[2.77172798e-06, 5.77393049e-02, 4.44363929e-01, 4.97893994e-01],\n",
       "       [1.06594252e-07, 8.66536801e-03, 8.14422292e-01, 1.76912234e-01],\n",
       "       [1.04337822e-07, 4.90052753e-03, 9.06269801e-01, 8.88295668e-02],\n",
       "       ...,\n",
       "       [1.31974268e-07, 9.99443561e-01, 6.15789935e-05, 4.94728085e-04],\n",
       "       [9.99999711e-01, 2.35480394e-07, 1.39860244e-08, 3.91254881e-08],\n",
       "       [9.99999709e-01, 2.35480394e-07, 1.67543166e-08, 3.91376039e-08]])"
      ]
     },
     "execution_count": 91,
     "metadata": {},
     "output_type": "execute_result"
    }
   ],
   "source": [
    "test_pred"
   ]
  },
  {
   "cell_type": "code",
   "execution_count": 94,
   "metadata": {},
   "outputs": [
    {
     "data": {
      "text/plain": [
       "(27925431, 47)"
      ]
     },
     "execution_count": 94,
     "metadata": {},
     "output_type": "execute_result"
    }
   ],
   "source": [
    "extended_test.shape"
   ]
  },
  {
   "cell_type": "code",
   "execution_count": 95,
   "metadata": {},
   "outputs": [
    {
     "name": "stderr",
     "output_type": "stream",
     "text": [
      "27925431it [06:56, 66978.01it/s]\n"
     ]
    }
   ],
   "source": [
    "with open('lgbm_6neigh_hist.csv', 'w') as f:\n",
    "    f.write('x,y,z,event,pred\\n')\n",
    "    for points, ind, prob  in tqdm(zip(extended_test[::, 4:7], extended_boxes, test_pred)):\n",
    "        x, y, z = points\n",
    "        x = str(int(x))\n",
    "        y = str(int(y))\n",
    "        z = str(int(z))\n",
    "        f.write(\",\".join([x, y, z, str(ind), str(prob.argmax())]) + '\\n')"
   ]
  },
  {
   "cell_type": "code",
   "execution_count": 123,
   "metadata": {},
   "outputs": [
    {
     "data": {
      "text/plain": [
       "Counter({0.0: 8358739, 1.0: 7593068, 2.0: 1621549, 3.0: 4847503})"
      ]
     },
     "execution_count": 123,
     "metadata": {},
     "output_type": "execute_result"
    }
   ],
   "source": [
    "from collections import Counter\n",
    "\n",
    "Counter(y_train)"
   ]
  },
  {
   "cell_type": "code",
   "execution_count": null,
   "metadata": {},
   "outputs": [],
   "source": []
  },
  {
   "cell_type": "code",
   "execution_count": 125,
   "metadata": {},
   "outputs": [
    {
     "data": {
      "text/plain": [
       "22420859"
      ]
     },
     "execution_count": 125,
     "metadata": {},
     "output_type": "execute_result"
    }
   ],
   "source": [
    "len(y_train)"
   ]
  },
  {
   "cell_type": "code",
   "execution_count": 313,
   "metadata": {},
   "outputs": [],
   "source": [
    "np.save('test_pred_prob_6neigh', test_pred)"
   ]
  },
  {
   "cell_type": "code",
   "execution_count": 314,
   "metadata": {},
   "outputs": [],
   "source": [
    "np.save('test_inds_prob_6neigh', extended_boxes)"
   ]
  },
  {
   "cell_type": "code",
   "execution_count": 315,
   "metadata": {},
   "outputs": [],
   "source": [
    "np.save('full_test_prob_6neigh', extended_test)"
   ]
  },
  {
   "cell_type": "code",
   "execution_count": 316,
   "metadata": {},
   "outputs": [
    {
     "data": {
      "text/plain": [
       "27925431"
      ]
     },
     "execution_count": 316,
     "metadata": {},
     "output_type": "execute_result"
    }
   ],
   "source": [
    "len(test_pred)"
   ]
  },
  {
   "cell_type": "code",
   "execution_count": 279,
   "metadata": {},
   "outputs": [
    {
     "data": {
      "text/plain": [
       "array([], dtype=float64)"
      ]
     },
     "execution_count": 279,
     "metadata": {},
     "output_type": "execute_result"
    }
   ],
   "source": [
    "extended_boxes"
   ]
  }
 ],
 "metadata": {
  "kernelspec": {
   "display_name": "Python 3",
   "language": "python",
   "name": "python3"
  },
  "language_info": {
   "codemirror_mode": {
    "name": "ipython",
    "version": 3
   },
   "file_extension": ".py",
   "mimetype": "text/x-python",
   "name": "python",
   "nbconvert_exporter": "python",
   "pygments_lexer": "ipython3",
   "version": "3.6.6"
  }
 },
 "nbformat": 4,
 "nbformat_minor": 2
}
